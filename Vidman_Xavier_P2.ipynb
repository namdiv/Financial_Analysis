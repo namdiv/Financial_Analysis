{
 "cells": [
  {
   "cell_type": "markdown",
   "metadata": {
    "slideshow": {
     "slide_type": "slide"
    }
   },
   "source": [
    "# Trabajo Práctico N°2: Finanzas - Vidman Xavier Harry"
   ]
  },
  {
   "cell_type": "code",
   "execution_count": 1,
   "metadata": {
    "slideshow": {
     "slide_type": "subslide"
    }
   },
   "outputs": [],
   "source": [
    "import numpy as np\n",
    "import pandas as pd\n",
    "import matplotlib.pyplot as plt\n",
    "import seaborn as sns\n",
    "import yfinance as yf\n",
    "import datetime as dt\n",
    "sns.set()\n",
    "%matplotlib inline"
   ]
  },
  {
   "cell_type": "markdown",
   "metadata": {
    "slideshow": {
     "slide_type": "slide"
    }
   },
   "source": [
    "## Obtención de los datos de cada empresa"
   ]
  },
  {
   "cell_type": "markdown",
   "metadata": {
    "slideshow": {
     "slide_type": "subslide"
    }
   },
   "source": [
    "### Comenzamos obteniendo los símbolos de cada empresa a través de la URL de wikipedia: https://en.wikipedia.org/wiki/List_of_S%26P_500_companies"
   ]
  },
  {
   "cell_type": "code",
   "execution_count": 2,
   "metadata": {
    "slideshow": {
     "slide_type": "subslide"
    }
   },
   "outputs": [],
   "source": [
    "df_wiki = pd.read_html('https://en.wikipedia.org/wiki/List_of_S%26P_500_companies')[0]"
   ]
  },
  {
   "cell_type": "markdown",
   "metadata": {
    "slideshow": {
     "slide_type": "slide"
    }
   },
   "source": [
    "### Descargamos todos los datos de cada empresa, en formato .csv, de la database de Yahoo Finance. Al mismo tiempo, a cada dataframe los almacenamos en una carpeta llamada \"df_companies\". Para un mayor orden, creamos un .csv para cada empresa."
   ]
  },
  {
   "cell_type": "code",
   "execution_count": null,
   "metadata": {
    "slideshow": {
     "slide_type": "subslide"
    }
   },
   "outputs": [],
   "source": [
    "symbol_list = list(df_wiki['Symbol'])\n",
    "\n",
    "for i,symbol in enumerate(symbol_list):\n",
    "    if symbol.__contains__('.'):\n",
    "        symbol_list[i] = symbol.replace('.', '-')\n",
    "\n",
    "for symbol in symbol_list:\n",
    "    globals()[str(symbol).lower()] = yf.download(f\"{symbol}\", start='2000-01-01', end='2021-12-31')\n",
    "    globals()[str(symbol).lower()].to_csv(f'../PI_semana_2/df_companies/{symbol}.csv', index=True, sep=';')\n",
    "\n",
    "\n",
    "# Si quisiera almacenar cada df en su varible-simbolo correspondiente:\n",
    "#for symbol in symbol_list:\n",
    "#    globals()[str(symbol).lower()] = pd.read_csv(f'../PI_semana_2/df_companies/{symbol}.csv', delimiter=';')"
   ]
  },
  {
   "cell_type": "markdown",
   "metadata": {
    "slideshow": {
     "slide_type": "slide"
    }
   },
   "source": [
    "### Una vez que tenemos los dataframes de cada empresa, los juntamos a todos en un mismo dataframe llamado \"sp500\". Además, este dataframe será exportado en formato .csv para trabajarlo con más facilidad en un futuro."
   ]
  },
  {
   "cell_type": "code",
   "execution_count": 3,
   "metadata": {
    "slideshow": {
     "slide_type": "subslide"
    }
   },
   "outputs": [],
   "source": [
    "#concateno todos los .csv de la carpeta df_companies en un solo dataframe llamado data\n",
    "from os import listdir\n",
    "path = r'C:\\Users\\Xavi\\Desktop\\Labs\\PI_semana_2\\df_companies'\n",
    "files = listdir(path)\n",
    "data = pd.concat((pd.read_csv(f'df_companies/{file}', delimiter=';').assign(filename = file) for file in files), ignore_index=True)\n",
    "\n",
    "for i in data.index.values:\n",
    "    data['filename'][i] = data['filename'][i].replace('.csv', '')\n",
    "\n",
    "data.rename(columns = {'filename':'Symbol'}, inplace = True)\n",
    "\n",
    "#Creo el DF definitivo \"sp500\" con todo lo que había en data + la industria a la que pertenece + day of the week + month\n",
    "industry = df_wiki.drop(columns={'Security', 'SEC filings', 'GICS Sub-Industry', 'Headquarters Location', 'Date first added', 'CIK', 'Founded'})\n",
    "sp500 = pd.merge(data, industry, on='Symbol', how='inner')\n",
    "\n",
    "sp500['Date'] = pd.to_datetime(sp500['Date'])\n",
    "\n",
    "sp500['Day_of_week'] = sp500[\"Date\"].dt.day_name()\n",
    "sp500['Month'] = sp500[\"Date\"].dt.month_name()\n",
    "sp500['Year'] = pd.DatetimeIndex(sp500['Date']).year\n",
    "\n",
    "sp500.rename(columns = {'GICS Sector':'Industry'}, inplace = True)\n",
    "sp500.to_csv('../PI_semana_2/sp500.csv', index=False, sep=';')\n"
   ]
  },
  {
   "cell_type": "code",
   "execution_count": 2,
   "metadata": {
    "slideshow": {
     "slide_type": "subslide"
    }
   },
   "outputs": [],
   "source": [
    "sp500 = pd.read_csv('../sp500.csv', delimiter=';')"
   ]
  },
  {
   "cell_type": "code",
   "execution_count": 3,
   "metadata": {
    "slideshow": {
     "slide_type": "slide"
    }
   },
   "outputs": [
    {
     "data": {
      "text/html": [
       "<div>\n",
       "<style scoped>\n",
       "    .dataframe tbody tr th:only-of-type {\n",
       "        vertical-align: middle;\n",
       "    }\n",
       "\n",
       "    .dataframe tbody tr th {\n",
       "        vertical-align: top;\n",
       "    }\n",
       "\n",
       "    .dataframe thead th {\n",
       "        text-align: right;\n",
       "    }\n",
       "</style>\n",
       "<table border=\"1\" class=\"dataframe\">\n",
       "  <thead>\n",
       "    <tr style=\"text-align: right;\">\n",
       "      <th></th>\n",
       "      <th>Date</th>\n",
       "      <th>Open</th>\n",
       "      <th>High</th>\n",
       "      <th>Low</th>\n",
       "      <th>Close</th>\n",
       "      <th>Adj Close</th>\n",
       "      <th>Volume</th>\n",
       "      <th>Symbol</th>\n",
       "      <th>Industry</th>\n",
       "      <th>Day_of_week</th>\n",
       "      <th>Month</th>\n",
       "      <th>Year</th>\n",
       "    </tr>\n",
       "  </thead>\n",
       "  <tbody>\n",
       "    <tr>\n",
       "      <th>0</th>\n",
       "      <td>2000-01-03</td>\n",
       "      <td>56.330471</td>\n",
       "      <td>56.464592</td>\n",
       "      <td>48.193848</td>\n",
       "      <td>51.502148</td>\n",
       "      <td>44.221340</td>\n",
       "      <td>4674353.0</td>\n",
       "      <td>A</td>\n",
       "      <td>Health Care</td>\n",
       "      <td>Monday</td>\n",
       "      <td>January</td>\n",
       "      <td>2000</td>\n",
       "    </tr>\n",
       "    <tr>\n",
       "      <th>1</th>\n",
       "      <td>2000-01-04</td>\n",
       "      <td>48.730328</td>\n",
       "      <td>49.266811</td>\n",
       "      <td>46.316166</td>\n",
       "      <td>47.567955</td>\n",
       "      <td>40.843327</td>\n",
       "      <td>4765083.0</td>\n",
       "      <td>A</td>\n",
       "      <td>Health Care</td>\n",
       "      <td>Tuesday</td>\n",
       "      <td>January</td>\n",
       "      <td>2000</td>\n",
       "    </tr>\n",
       "    <tr>\n",
       "      <th>2</th>\n",
       "      <td>2000-01-05</td>\n",
       "      <td>47.389126</td>\n",
       "      <td>47.567955</td>\n",
       "      <td>43.141991</td>\n",
       "      <td>44.617310</td>\n",
       "      <td>38.309795</td>\n",
       "      <td>5758642.0</td>\n",
       "      <td>A</td>\n",
       "      <td>Health Care</td>\n",
       "      <td>Wednesday</td>\n",
       "      <td>January</td>\n",
       "      <td>2000</td>\n",
       "    </tr>\n",
       "    <tr>\n",
       "      <th>3</th>\n",
       "      <td>2000-01-06</td>\n",
       "      <td>44.080830</td>\n",
       "      <td>44.349072</td>\n",
       "      <td>41.577251</td>\n",
       "      <td>42.918453</td>\n",
       "      <td>36.851112</td>\n",
       "      <td>2534434.0</td>\n",
       "      <td>A</td>\n",
       "      <td>Health Care</td>\n",
       "      <td>Thursday</td>\n",
       "      <td>January</td>\n",
       "      <td>2000</td>\n",
       "    </tr>\n",
       "    <tr>\n",
       "      <th>4</th>\n",
       "      <td>2000-01-07</td>\n",
       "      <td>42.247852</td>\n",
       "      <td>47.165592</td>\n",
       "      <td>42.203148</td>\n",
       "      <td>46.494991</td>\n",
       "      <td>39.922039</td>\n",
       "      <td>2819626.0</td>\n",
       "      <td>A</td>\n",
       "      <td>Health Care</td>\n",
       "      <td>Friday</td>\n",
       "      <td>January</td>\n",
       "      <td>2000</td>\n",
       "    </tr>\n",
       "    <tr>\n",
       "      <th>...</th>\n",
       "      <td>...</td>\n",
       "      <td>...</td>\n",
       "      <td>...</td>\n",
       "      <td>...</td>\n",
       "      <td>...</td>\n",
       "      <td>...</td>\n",
       "      <td>...</td>\n",
       "      <td>...</td>\n",
       "      <td>...</td>\n",
       "      <td>...</td>\n",
       "      <td>...</td>\n",
       "      <td>...</td>\n",
       "    </tr>\n",
       "    <tr>\n",
       "      <th>2467087</th>\n",
       "      <td>2021-12-23</td>\n",
       "      <td>241.699997</td>\n",
       "      <td>244.389999</td>\n",
       "      <td>240.690002</td>\n",
       "      <td>242.509995</td>\n",
       "      <td>241.697968</td>\n",
       "      <td>1172400.0</td>\n",
       "      <td>ZTS</td>\n",
       "      <td>Health Care</td>\n",
       "      <td>Thursday</td>\n",
       "      <td>December</td>\n",
       "      <td>2021</td>\n",
       "    </tr>\n",
       "    <tr>\n",
       "      <th>2467088</th>\n",
       "      <td>2021-12-27</td>\n",
       "      <td>244.389999</td>\n",
       "      <td>246.720001</td>\n",
       "      <td>243.080002</td>\n",
       "      <td>246.509995</td>\n",
       "      <td>245.684570</td>\n",
       "      <td>807000.0</td>\n",
       "      <td>ZTS</td>\n",
       "      <td>Health Care</td>\n",
       "      <td>Monday</td>\n",
       "      <td>December</td>\n",
       "      <td>2021</td>\n",
       "    </tr>\n",
       "    <tr>\n",
       "      <th>2467089</th>\n",
       "      <td>2021-12-28</td>\n",
       "      <td>247.000000</td>\n",
       "      <td>247.839996</td>\n",
       "      <td>243.639999</td>\n",
       "      <td>244.250000</td>\n",
       "      <td>243.432159</td>\n",
       "      <td>1004400.0</td>\n",
       "      <td>ZTS</td>\n",
       "      <td>Health Care</td>\n",
       "      <td>Tuesday</td>\n",
       "      <td>December</td>\n",
       "      <td>2021</td>\n",
       "    </tr>\n",
       "    <tr>\n",
       "      <th>2467090</th>\n",
       "      <td>2021-12-29</td>\n",
       "      <td>244.020004</td>\n",
       "      <td>247.850006</td>\n",
       "      <td>243.639999</td>\n",
       "      <td>247.029999</td>\n",
       "      <td>246.202835</td>\n",
       "      <td>939900.0</td>\n",
       "      <td>ZTS</td>\n",
       "      <td>Health Care</td>\n",
       "      <td>Wednesday</td>\n",
       "      <td>December</td>\n",
       "      <td>2021</td>\n",
       "    </tr>\n",
       "    <tr>\n",
       "      <th>2467091</th>\n",
       "      <td>2021-12-30</td>\n",
       "      <td>247.050003</td>\n",
       "      <td>249.270004</td>\n",
       "      <td>244.960007</td>\n",
       "      <td>245.160004</td>\n",
       "      <td>244.339111</td>\n",
       "      <td>859100.0</td>\n",
       "      <td>ZTS</td>\n",
       "      <td>Health Care</td>\n",
       "      <td>Thursday</td>\n",
       "      <td>December</td>\n",
       "      <td>2021</td>\n",
       "    </tr>\n",
       "  </tbody>\n",
       "</table>\n",
       "<p>2467092 rows × 12 columns</p>\n",
       "</div>"
      ],
      "text/plain": [
       "               Date        Open        High         Low       Close  \\\n",
       "0        2000-01-03   56.330471   56.464592   48.193848   51.502148   \n",
       "1        2000-01-04   48.730328   49.266811   46.316166   47.567955   \n",
       "2        2000-01-05   47.389126   47.567955   43.141991   44.617310   \n",
       "3        2000-01-06   44.080830   44.349072   41.577251   42.918453   \n",
       "4        2000-01-07   42.247852   47.165592   42.203148   46.494991   \n",
       "...             ...         ...         ...         ...         ...   \n",
       "2467087  2021-12-23  241.699997  244.389999  240.690002  242.509995   \n",
       "2467088  2021-12-27  244.389999  246.720001  243.080002  246.509995   \n",
       "2467089  2021-12-28  247.000000  247.839996  243.639999  244.250000   \n",
       "2467090  2021-12-29  244.020004  247.850006  243.639999  247.029999   \n",
       "2467091  2021-12-30  247.050003  249.270004  244.960007  245.160004   \n",
       "\n",
       "          Adj Close     Volume Symbol     Industry Day_of_week     Month  Year  \n",
       "0         44.221340  4674353.0      A  Health Care      Monday   January  2000  \n",
       "1         40.843327  4765083.0      A  Health Care     Tuesday   January  2000  \n",
       "2         38.309795  5758642.0      A  Health Care   Wednesday   January  2000  \n",
       "3         36.851112  2534434.0      A  Health Care    Thursday   January  2000  \n",
       "4         39.922039  2819626.0      A  Health Care      Friday   January  2000  \n",
       "...             ...        ...    ...          ...         ...       ...   ...  \n",
       "2467087  241.697968  1172400.0    ZTS  Health Care    Thursday  December  2021  \n",
       "2467088  245.684570   807000.0    ZTS  Health Care      Monday  December  2021  \n",
       "2467089  243.432159  1004400.0    ZTS  Health Care     Tuesday  December  2021  \n",
       "2467090  246.202835   939900.0    ZTS  Health Care   Wednesday  December  2021  \n",
       "2467091  244.339111   859100.0    ZTS  Health Care    Thursday  December  2021  \n",
       "\n",
       "[2467092 rows x 12 columns]"
      ]
     },
     "execution_count": 3,
     "metadata": {},
     "output_type": "execute_result"
    }
   ],
   "source": [
    "sp500"
   ]
  },
  {
   "cell_type": "markdown",
   "metadata": {
    "slideshow": {
     "slide_type": "slide"
    }
   },
   "source": [
    "## Calculamos los índices financieros y los agregamos como columnas al dataframe"
   ]
  },
  {
   "cell_type": "code",
   "execution_count": 4,
   "metadata": {
    "slideshow": {
     "slide_type": "subslide"
    }
   },
   "outputs": [],
   "source": [
    "sp500['Gap_return'] = np.log(sp500['Close']/sp500['Close'].shift(1))\n",
    "\n",
    "sp500['Intra_return'] = np.log(sp500['Close']/sp500['Open'])\n",
    "\n",
    "sp500['Variation'] = sp500.groupby('Symbol')['Adj Close'].pct_change()\n",
    "\n",
    "sp500['Volatility'] = sp500['Variation'].rolling(252).std()**.5"
   ]
  },
  {
   "cell_type": "code",
   "execution_count": 5,
   "metadata": {
    "slideshow": {
     "slide_type": "slide"
    }
   },
   "outputs": [
    {
     "data": {
      "text/html": [
       "<div>\n",
       "<style scoped>\n",
       "    .dataframe tbody tr th:only-of-type {\n",
       "        vertical-align: middle;\n",
       "    }\n",
       "\n",
       "    .dataframe tbody tr th {\n",
       "        vertical-align: top;\n",
       "    }\n",
       "\n",
       "    .dataframe thead th {\n",
       "        text-align: right;\n",
       "    }\n",
       "</style>\n",
       "<table border=\"1\" class=\"dataframe\">\n",
       "  <thead>\n",
       "    <tr style=\"text-align: right;\">\n",
       "      <th></th>\n",
       "      <th>Date</th>\n",
       "      <th>Open</th>\n",
       "      <th>High</th>\n",
       "      <th>Low</th>\n",
       "      <th>Close</th>\n",
       "      <th>Adj Close</th>\n",
       "      <th>Volume</th>\n",
       "      <th>Symbol</th>\n",
       "      <th>Industry</th>\n",
       "      <th>Day_of_week</th>\n",
       "      <th>Month</th>\n",
       "      <th>Year</th>\n",
       "      <th>Gap_return</th>\n",
       "      <th>Intra_return</th>\n",
       "      <th>Variation</th>\n",
       "      <th>Volatility</th>\n",
       "    </tr>\n",
       "  </thead>\n",
       "  <tbody>\n",
       "    <tr>\n",
       "      <th>0</th>\n",
       "      <td>2000-01-03</td>\n",
       "      <td>56.330471</td>\n",
       "      <td>56.464592</td>\n",
       "      <td>48.193848</td>\n",
       "      <td>51.502148</td>\n",
       "      <td>44.221340</td>\n",
       "      <td>4674353.0</td>\n",
       "      <td>A</td>\n",
       "      <td>Health Care</td>\n",
       "      <td>Monday</td>\n",
       "      <td>January</td>\n",
       "      <td>2000</td>\n",
       "      <td>NaN</td>\n",
       "      <td>-0.089612</td>\n",
       "      <td>NaN</td>\n",
       "      <td>NaN</td>\n",
       "    </tr>\n",
       "    <tr>\n",
       "      <th>1</th>\n",
       "      <td>2000-01-04</td>\n",
       "      <td>48.730328</td>\n",
       "      <td>49.266811</td>\n",
       "      <td>46.316166</td>\n",
       "      <td>47.567955</td>\n",
       "      <td>40.843327</td>\n",
       "      <td>4765083.0</td>\n",
       "      <td>A</td>\n",
       "      <td>Health Care</td>\n",
       "      <td>Tuesday</td>\n",
       "      <td>January</td>\n",
       "      <td>2000</td>\n",
       "      <td>-0.079464</td>\n",
       "      <td>-0.024142</td>\n",
       "      <td>-0.076389</td>\n",
       "      <td>NaN</td>\n",
       "    </tr>\n",
       "    <tr>\n",
       "      <th>2</th>\n",
       "      <td>2000-01-05</td>\n",
       "      <td>47.389126</td>\n",
       "      <td>47.567955</td>\n",
       "      <td>43.141991</td>\n",
       "      <td>44.617310</td>\n",
       "      <td>38.309795</td>\n",
       "      <td>5758642.0</td>\n",
       "      <td>A</td>\n",
       "      <td>Health Care</td>\n",
       "      <td>Wednesday</td>\n",
       "      <td>January</td>\n",
       "      <td>2000</td>\n",
       "      <td>-0.064037</td>\n",
       "      <td>-0.060271</td>\n",
       "      <td>-0.062030</td>\n",
       "      <td>NaN</td>\n",
       "    </tr>\n",
       "    <tr>\n",
       "      <th>3</th>\n",
       "      <td>2000-01-06</td>\n",
       "      <td>44.080830</td>\n",
       "      <td>44.349072</td>\n",
       "      <td>41.577251</td>\n",
       "      <td>42.918453</td>\n",
       "      <td>36.851112</td>\n",
       "      <td>2534434.0</td>\n",
       "      <td>A</td>\n",
       "      <td>Health Care</td>\n",
       "      <td>Thursday</td>\n",
       "      <td>January</td>\n",
       "      <td>2000</td>\n",
       "      <td>-0.038820</td>\n",
       "      <td>-0.026723</td>\n",
       "      <td>-0.038076</td>\n",
       "      <td>NaN</td>\n",
       "    </tr>\n",
       "    <tr>\n",
       "      <th>4</th>\n",
       "      <td>2000-01-07</td>\n",
       "      <td>42.247852</td>\n",
       "      <td>47.165592</td>\n",
       "      <td>42.203148</td>\n",
       "      <td>46.494991</td>\n",
       "      <td>39.922039</td>\n",
       "      <td>2819626.0</td>\n",
       "      <td>A</td>\n",
       "      <td>Health Care</td>\n",
       "      <td>Friday</td>\n",
       "      <td>January</td>\n",
       "      <td>2000</td>\n",
       "      <td>0.080043</td>\n",
       "      <td>0.095791</td>\n",
       "      <td>0.083333</td>\n",
       "      <td>NaN</td>\n",
       "    </tr>\n",
       "    <tr>\n",
       "      <th>5</th>\n",
       "      <td>2000-01-10</td>\n",
       "      <td>49.356224</td>\n",
       "      <td>49.803291</td>\n",
       "      <td>48.327969</td>\n",
       "      <td>49.311516</td>\n",
       "      <td>42.340385</td>\n",
       "      <td>2148446.0</td>\n",
       "      <td>A</td>\n",
       "      <td>Health Care</td>\n",
       "      <td>Monday</td>\n",
       "      <td>January</td>\n",
       "      <td>2000</td>\n",
       "      <td>0.058813</td>\n",
       "      <td>-0.000906</td>\n",
       "      <td>0.060577</td>\n",
       "      <td>NaN</td>\n",
       "    </tr>\n",
       "    <tr>\n",
       "      <th>6</th>\n",
       "      <td>2000-01-11</td>\n",
       "      <td>49.311516</td>\n",
       "      <td>49.311516</td>\n",
       "      <td>47.523247</td>\n",
       "      <td>48.640915</td>\n",
       "      <td>41.764595</td>\n",
       "      <td>1855985.0</td>\n",
       "      <td>A</td>\n",
       "      <td>Health Care</td>\n",
       "      <td>Tuesday</td>\n",
       "      <td>January</td>\n",
       "      <td>2000</td>\n",
       "      <td>-0.013693</td>\n",
       "      <td>-0.013693</td>\n",
       "      <td>-0.013599</td>\n",
       "      <td>NaN</td>\n",
       "    </tr>\n",
       "    <tr>\n",
       "      <th>7</th>\n",
       "      <td>2000-01-12</td>\n",
       "      <td>48.640915</td>\n",
       "      <td>48.640915</td>\n",
       "      <td>45.824390</td>\n",
       "      <td>47.657368</td>\n",
       "      <td>40.920101</td>\n",
       "      <td>1429874.0</td>\n",
       "      <td>A</td>\n",
       "      <td>Health Care</td>\n",
       "      <td>Wednesday</td>\n",
       "      <td>January</td>\n",
       "      <td>2000</td>\n",
       "      <td>-0.020428</td>\n",
       "      <td>-0.020428</td>\n",
       "      <td>-0.020220</td>\n",
       "      <td>NaN</td>\n",
       "    </tr>\n",
       "    <tr>\n",
       "      <th>8</th>\n",
       "      <td>2000-01-13</td>\n",
       "      <td>48.909157</td>\n",
       "      <td>49.937412</td>\n",
       "      <td>47.210300</td>\n",
       "      <td>48.372677</td>\n",
       "      <td>41.534286</td>\n",
       "      <td>1134337.0</td>\n",
       "      <td>A</td>\n",
       "      <td>Health Care</td>\n",
       "      <td>Thursday</td>\n",
       "      <td>January</td>\n",
       "      <td>2000</td>\n",
       "      <td>0.014898</td>\n",
       "      <td>-0.011030</td>\n",
       "      <td>0.015009</td>\n",
       "      <td>NaN</td>\n",
       "    </tr>\n",
       "    <tr>\n",
       "      <th>9</th>\n",
       "      <td>2000-01-14</td>\n",
       "      <td>47.925610</td>\n",
       "      <td>49.624462</td>\n",
       "      <td>47.925610</td>\n",
       "      <td>48.909157</td>\n",
       "      <td>41.994923</td>\n",
       "      <td>1316916.0</td>\n",
       "      <td>A</td>\n",
       "      <td>Health Care</td>\n",
       "      <td>Friday</td>\n",
       "      <td>January</td>\n",
       "      <td>2000</td>\n",
       "      <td>0.011030</td>\n",
       "      <td>0.020315</td>\n",
       "      <td>0.011091</td>\n",
       "      <td>NaN</td>\n",
       "    </tr>\n",
       "  </tbody>\n",
       "</table>\n",
       "</div>"
      ],
      "text/plain": [
       "         Date       Open       High        Low      Close  Adj Close  \\\n",
       "0  2000-01-03  56.330471  56.464592  48.193848  51.502148  44.221340   \n",
       "1  2000-01-04  48.730328  49.266811  46.316166  47.567955  40.843327   \n",
       "2  2000-01-05  47.389126  47.567955  43.141991  44.617310  38.309795   \n",
       "3  2000-01-06  44.080830  44.349072  41.577251  42.918453  36.851112   \n",
       "4  2000-01-07  42.247852  47.165592  42.203148  46.494991  39.922039   \n",
       "5  2000-01-10  49.356224  49.803291  48.327969  49.311516  42.340385   \n",
       "6  2000-01-11  49.311516  49.311516  47.523247  48.640915  41.764595   \n",
       "7  2000-01-12  48.640915  48.640915  45.824390  47.657368  40.920101   \n",
       "8  2000-01-13  48.909157  49.937412  47.210300  48.372677  41.534286   \n",
       "9  2000-01-14  47.925610  49.624462  47.925610  48.909157  41.994923   \n",
       "\n",
       "      Volume Symbol     Industry Day_of_week    Month  Year  Gap_return  \\\n",
       "0  4674353.0      A  Health Care      Monday  January  2000         NaN   \n",
       "1  4765083.0      A  Health Care     Tuesday  January  2000   -0.079464   \n",
       "2  5758642.0      A  Health Care   Wednesday  January  2000   -0.064037   \n",
       "3  2534434.0      A  Health Care    Thursday  January  2000   -0.038820   \n",
       "4  2819626.0      A  Health Care      Friday  January  2000    0.080043   \n",
       "5  2148446.0      A  Health Care      Monday  January  2000    0.058813   \n",
       "6  1855985.0      A  Health Care     Tuesday  January  2000   -0.013693   \n",
       "7  1429874.0      A  Health Care   Wednesday  January  2000   -0.020428   \n",
       "8  1134337.0      A  Health Care    Thursday  January  2000    0.014898   \n",
       "9  1316916.0      A  Health Care      Friday  January  2000    0.011030   \n",
       "\n",
       "   Intra_return  Variation  Volatility  \n",
       "0     -0.089612        NaN         NaN  \n",
       "1     -0.024142  -0.076389         NaN  \n",
       "2     -0.060271  -0.062030         NaN  \n",
       "3     -0.026723  -0.038076         NaN  \n",
       "4      0.095791   0.083333         NaN  \n",
       "5     -0.000906   0.060577         NaN  \n",
       "6     -0.013693  -0.013599         NaN  \n",
       "7     -0.020428  -0.020220         NaN  \n",
       "8     -0.011030   0.015009         NaN  \n",
       "9      0.020315   0.011091         NaN  "
      ]
     },
     "execution_count": 5,
     "metadata": {},
     "output_type": "execute_result"
    }
   ],
   "source": [
    "sp500.head(10)"
   ]
  },
  {
   "cell_type": "markdown",
   "metadata": {
    "slideshow": {
     "slide_type": "slide"
    }
   },
   "source": [
    "## ¿Cuál es el mejor día para invertir teniendo en cuenta el retorno de los movimientos gap?"
   ]
  },
  {
   "cell_type": "code",
   "execution_count": 6,
   "metadata": {
    "slideshow": {
     "slide_type": "subslide"
    }
   },
   "outputs": [],
   "source": [
    "day_week_mean = sp500.groupby('Day_of_week').mean()\n",
    "day_week_sum = sp500.groupby('Day_of_week').sum()\n",
    "\n",
    "day_week_mean['Day_of_week'] = day_week_mean.index.values\n",
    "day_week_sum['Day_of_week'] = day_week_sum.index.values"
   ]
  },
  {
   "cell_type": "code",
   "execution_count": 7,
   "metadata": {
    "slideshow": {
     "slide_type": "slide"
    }
   },
   "outputs": [
    {
     "data": {
      "text/plain": [
       "[Text(0.5, 1.0, 'Volumen promedio de cada día')]"
      ]
     },
     "execution_count": 7,
     "metadata": {},
     "output_type": "execute_result"
    },
    {
     "data": {
      "image/png": "[encoded data removed]",
      "text/plain": [
       "<Figure size 648x432 with 1 Axes>"
      ]
     },
     "metadata": {},
     "output_type": "display_data"
    }
   ],
   "source": [
    "sns.set(rc = {'figure.figsize':(9,6)})\n",
    "sns.barplot(x='Day_of_week', y='Volume', data=day_week_mean).set(title='Volumen promedio de cada día')\n"
   ]
  },
  {
   "cell_type": "code",
   "execution_count": 8,
   "metadata": {
    "slideshow": {
     "slide_type": "slide"
    }
   },
   "outputs": [
    {
     "data": {
      "text/plain": [
       "[Text(0.5, 1.0, 'Volumen total de cada día')]"
      ]
     },
     "execution_count": 8,
     "metadata": {},
     "output_type": "execute_result"
    },
    {
     "data": {
      "image/png": "[encoded data removed]",
      "text/plain": [
       "<Figure size 648x432 with 1 Axes>"
      ]
     },
     "metadata": {},
     "output_type": "display_data"
    }
   ],
   "source": [
    "sns.set(rc = {'figure.figsize':(9,6)})\n",
    "sns.barplot(x='Day_of_week', y='Volume', data=day_week_sum).set(title='Volumen total de cada día')"
   ]
  },
  {
   "cell_type": "markdown",
   "metadata": {
    "slideshow": {
     "slide_type": "slide"
    }
   },
   "source": [
    "### Graficamos la media del \"Retorno de gap\" para cada día de la semana. Vemos que el mejor día es el MARTES"
   ]
  },
  {
   "cell_type": "code",
   "execution_count": 9,
   "metadata": {
    "slideshow": {
     "slide_type": "subslide"
    }
   },
   "outputs": [
    {
     "data": {
      "text/plain": [
       "[Text(0.5, 1.0, 'Promedio de Retorno de movimientos gap')]"
      ]
     },
     "execution_count": 9,
     "metadata": {},
     "output_type": "execute_result"
    },
    {
     "data": {
      "image/png": "[encoded data removed]",
      "text/plain": [
       "<Figure size 648x432 with 1 Axes>"
      ]
     },
     "metadata": {},
     "output_type": "display_data"
    }
   ],
   "source": [
    "sns.set(rc = {'figure.figsize':(9,6)})\n",
    "sns.barplot(x='Day_of_week', y='Gap_return', data=day_week_mean).set(title='Promedio de Retorno de movimientos gap')\n",
    "#sns.barplot(x='Day_of_week', y='Gap_return', data=day_week_sum)"
   ]
  },
  {
   "cell_type": "markdown",
   "metadata": {
    "slideshow": {
     "slide_type": "slide"
    }
   },
   "source": [
    "## ¿Cuál es el mejor día para invertir teniendo en cuenta el retorno de los movimientos intradiarios?"
   ]
  },
  {
   "cell_type": "markdown",
   "metadata": {
    "slideshow": {
     "slide_type": "subslide"
    }
   },
   "source": [
    "### Graficamos la media del \"Retorno intradiario\" para cada día de la semana. Vemos que el mejor día es el JUEVES"
   ]
  },
  {
   "cell_type": "code",
   "execution_count": 10,
   "metadata": {
    "slideshow": {
     "slide_type": "slide"
    }
   },
   "outputs": [
    {
     "data": {
      "text/plain": [
       "[Text(0.5, 1.0, 'Promedio de Retorno de movimientos intradiarios')]"
      ]
     },
     "execution_count": 10,
     "metadata": {},
     "output_type": "execute_result"
    },
    {
     "data": {
      "image/png": "[encoded data removed]",
      "text/plain": [
       "<Figure size 648x432 with 1 Axes>"
      ]
     },
     "metadata": {},
     "output_type": "display_data"
    }
   ],
   "source": [
    "sns.set(rc = {'figure.figsize':(9,6)})\n",
    "sns.barplot(x='Day_of_week', y='Intra_return', data=day_week_mean).set(title='Promedio de Retorno de movimientos intradiarios')"
   ]
  },
  {
   "cell_type": "markdown",
   "metadata": {
    "slideshow": {
     "slide_type": "slide"
    }
   },
   "source": [
    "## ¿Cuáles son las mejores industrias que pertenecen al S&P500 en las cuales se puede invertir?"
   ]
  },
  {
   "cell_type": "code",
   "execution_count": 11,
   "metadata": {
    "slideshow": {
     "slide_type": "subslide"
    }
   },
   "outputs": [
    {
     "data": {
      "text/html": [
       "<div>\n",
       "<style scoped>\n",
       "    .dataframe tbody tr th:only-of-type {\n",
       "        vertical-align: middle;\n",
       "    }\n",
       "\n",
       "    .dataframe tbody tr th {\n",
       "        vertical-align: top;\n",
       "    }\n",
       "\n",
       "    .dataframe thead th {\n",
       "        text-align: right;\n",
       "    }\n",
       "</style>\n",
       "<table border=\"1\" class=\"dataframe\">\n",
       "  <thead>\n",
       "    <tr style=\"text-align: right;\">\n",
       "      <th></th>\n",
       "      <th>Open</th>\n",
       "      <th>High</th>\n",
       "      <th>Low</th>\n",
       "      <th>Close</th>\n",
       "      <th>Adj Close</th>\n",
       "      <th>Volume</th>\n",
       "      <th>Year</th>\n",
       "      <th>Gap_return</th>\n",
       "      <th>Intra_return</th>\n",
       "      <th>Variation</th>\n",
       "      <th>Volatility</th>\n",
       "      <th>Industry</th>\n",
       "    </tr>\n",
       "    <tr>\n",
       "      <th>Industry</th>\n",
       "      <th></th>\n",
       "      <th></th>\n",
       "      <th></th>\n",
       "      <th></th>\n",
       "      <th></th>\n",
       "      <th></th>\n",
       "      <th></th>\n",
       "      <th></th>\n",
       "      <th></th>\n",
       "      <th></th>\n",
       "      <th></th>\n",
       "      <th></th>\n",
       "    </tr>\n",
       "  </thead>\n",
       "  <tbody>\n",
       "    <tr>\n",
       "      <th>Communication Services</th>\n",
       "      <td>97.513001</td>\n",
       "      <td>98.576087</td>\n",
       "      <td>96.423521</td>\n",
       "      <td>97.529356</td>\n",
       "      <td>93.402465</td>\n",
       "      <td>9.183034e+06</td>\n",
       "      <td>2011.982178</td>\n",
       "      <td>-0.000039</td>\n",
       "      <td>0.000015</td>\n",
       "      <td>0.000688</td>\n",
       "      <td>0.144081</td>\n",
       "      <td>Communication Services</td>\n",
       "    </tr>\n",
       "    <tr>\n",
       "      <th>Consumer Discretionary</th>\n",
       "      <td>105.894890</td>\n",
       "      <td>107.215582</td>\n",
       "      <td>104.562657</td>\n",
       "      <td>105.922441</td>\n",
       "      <td>100.904042</td>\n",
       "      <td>7.787991e+06</td>\n",
       "      <td>2011.197743</td>\n",
       "      <td>0.000039</td>\n",
       "      <td>0.000106</td>\n",
       "      <td>0.000881</td>\n",
       "      <td>0.147252</td>\n",
       "      <td>Consumer Discretionary</td>\n",
       "    </tr>\n",
       "    <tr>\n",
       "      <th>Consumer Staples</th>\n",
       "      <td>52.672852</td>\n",
       "      <td>53.146055</td>\n",
       "      <td>52.205976</td>\n",
       "      <td>52.690231</td>\n",
       "      <td>42.043998</td>\n",
       "      <td>4.398915e+06</td>\n",
       "      <td>2010.843479</td>\n",
       "      <td>-0.000047</td>\n",
       "      <td>0.000372</td>\n",
       "      <td>0.000543</td>\n",
       "      <td>0.119954</td>\n",
       "      <td>Consumer Staples</td>\n",
       "    </tr>\n",
       "    <tr>\n",
       "      <th>Energy</th>\n",
       "      <td>48.540324</td>\n",
       "      <td>49.179815</td>\n",
       "      <td>47.860823</td>\n",
       "      <td>48.527494</td>\n",
       "      <td>37.599065</td>\n",
       "      <td>7.014568e+06</td>\n",
       "      <td>2011.081381</td>\n",
       "      <td>-0.000203</td>\n",
       "      <td>-0.000299</td>\n",
       "      <td>0.000678</td>\n",
       "      <td>0.148598</td>\n",
       "      <td>Energy</td>\n",
       "    </tr>\n",
       "    <tr>\n",
       "      <th>Financials</th>\n",
       "      <td>73.243841</td>\n",
       "      <td>74.062856</td>\n",
       "      <td>72.392159</td>\n",
       "      <td>73.244731</td>\n",
       "      <td>59.971651</td>\n",
       "      <td>5.491937e+06</td>\n",
       "      <td>2010.996401</td>\n",
       "      <td>-0.000011</td>\n",
       "      <td>0.000135</td>\n",
       "      <td>0.000679</td>\n",
       "      <td>0.137677</td>\n",
       "      <td>Financials</td>\n",
       "    </tr>\n",
       "    <tr>\n",
       "      <th>Health Care</th>\n",
       "      <td>77.040704</td>\n",
       "      <td>77.949665</td>\n",
       "      <td>76.116841</td>\n",
       "      <td>77.060959</td>\n",
       "      <td>72.768629</td>\n",
       "      <td>3.729630e+06</td>\n",
       "      <td>2010.880754</td>\n",
       "      <td>0.000103</td>\n",
       "      <td>0.000323</td>\n",
       "      <td>0.000822</td>\n",
       "      <td>0.139627</td>\n",
       "      <td>Health Care</td>\n",
       "    </tr>\n",
       "    <tr>\n",
       "      <th>Industrials</th>\n",
       "      <td>68.543858</td>\n",
       "      <td>69.280209</td>\n",
       "      <td>67.788612</td>\n",
       "      <td>68.552951</td>\n",
       "      <td>59.989930</td>\n",
       "      <td>2.942168e+06</td>\n",
       "      <td>2011.096509</td>\n",
       "      <td>0.000018</td>\n",
       "      <td>0.000253</td>\n",
       "      <td>0.000744</td>\n",
       "      <td>0.137157</td>\n",
       "      <td>Industrials</td>\n",
       "    </tr>\n",
       "    <tr>\n",
       "      <th>Information Technology</th>\n",
       "      <td>56.841774</td>\n",
       "      <td>57.582477</td>\n",
       "      <td>56.079838</td>\n",
       "      <td>56.852232</td>\n",
       "      <td>52.654725</td>\n",
       "      <td>1.581473e+07</td>\n",
       "      <td>2011.413009</td>\n",
       "      <td>0.000085</td>\n",
       "      <td>0.000222</td>\n",
       "      <td>0.000888</td>\n",
       "      <td>0.151621</td>\n",
       "      <td>Information Technology</td>\n",
       "    </tr>\n",
       "    <tr>\n",
       "      <th>Materials</th>\n",
       "      <td>57.685262</td>\n",
       "      <td>58.344642</td>\n",
       "      <td>57.003514</td>\n",
       "      <td>57.686395</td>\n",
       "      <td>49.505597</td>\n",
       "      <td>2.964988e+06</td>\n",
       "      <td>2011.093151</td>\n",
       "      <td>-0.000059</td>\n",
       "      <td>0.000050</td>\n",
       "      <td>0.000688</td>\n",
       "      <td>0.139493</td>\n",
       "      <td>Materials</td>\n",
       "    </tr>\n",
       "    <tr>\n",
       "      <th>Real Estate</th>\n",
       "      <td>67.285121</td>\n",
       "      <td>68.006508</td>\n",
       "      <td>66.519076</td>\n",
       "      <td>67.297452</td>\n",
       "      <td>51.745575</td>\n",
       "      <td>1.624366e+06</td>\n",
       "      <td>2010.754625</td>\n",
       "      <td>-0.000027</td>\n",
       "      <td>0.000244</td>\n",
       "      <td>0.000777</td>\n",
       "      <td>0.133148</td>\n",
       "      <td>Real Estate</td>\n",
       "    </tr>\n",
       "    <tr>\n",
       "      <th>Utilities</th>\n",
       "      <td>40.938410</td>\n",
       "      <td>41.311540</td>\n",
       "      <td>40.550606</td>\n",
       "      <td>40.946847</td>\n",
       "      <td>30.067735</td>\n",
       "      <td>2.627012e+06</td>\n",
       "      <td>2010.656918</td>\n",
       "      <td>-0.000149</td>\n",
       "      <td>0.000211</td>\n",
       "      <td>0.000538</td>\n",
       "      <td>0.118278</td>\n",
       "      <td>Utilities</td>\n",
       "    </tr>\n",
       "  </tbody>\n",
       "</table>\n",
       "</div>"
      ],
      "text/plain": [
       "                              Open        High         Low       Close  \\\n",
       "Industry                                                                 \n",
       "Communication Services   97.513001   98.576087   96.423521   97.529356   \n",
       "Consumer Discretionary  105.894890  107.215582  104.562657  105.922441   \n",
       "Consumer Staples         52.672852   53.146055   52.205976   52.690231   \n",
       "Energy                   48.540324   49.179815   47.860823   48.527494   \n",
       "Financials               73.243841   74.062856   72.392159   73.244731   \n",
       "Health Care              77.040704   77.949665   76.116841   77.060959   \n",
       "Industrials              68.543858   69.280209   67.788612   68.552951   \n",
       "Information Technology   56.841774   57.582477   56.079838   56.852232   \n",
       "Materials                57.685262   58.344642   57.003514   57.686395   \n",
       "Real Estate              67.285121   68.006508   66.519076   67.297452   \n",
       "Utilities                40.938410   41.311540   40.550606   40.946847   \n",
       "\n",
       "                         Adj Close        Volume         Year  Gap_return  \\\n",
       "Industry                                                                    \n",
       "Communication Services   93.402465  9.183034e+06  2011.982178   -0.000039   \n",
       "Consumer Discretionary  100.904042  7.787991e+06  2011.197743    0.000039   \n",
       "Consumer Staples         42.043998  4.398915e+06  2010.843479   -0.000047   \n",
       "Energy                   37.599065  7.014568e+06  2011.081381   -0.000203   \n",
       "Financials               59.971651  5.491937e+06  2010.996401   -0.000011   \n",
       "Health Care              72.768629  3.729630e+06  2010.880754    0.000103   \n",
       "Industrials              59.989930  2.942168e+06  2011.096509    0.000018   \n",
       "Information Technology   52.654725  1.581473e+07  2011.413009    0.000085   \n",
       "Materials                49.505597  2.964988e+06  2011.093151   -0.000059   \n",
       "Real Estate              51.745575  1.624366e+06  2010.754625   -0.000027   \n",
       "Utilities                30.067735  2.627012e+06  2010.656918   -0.000149   \n",
       "\n",
       "                        Intra_return  Variation  Volatility  \\\n",
       "Industry                                                      \n",
       "Communication Services      0.000015   0.000688    0.144081   \n",
       "Consumer Discretionary      0.000106   0.000881    0.147252   \n",
       "Consumer Staples            0.000372   0.000543    0.119954   \n",
       "Energy                     -0.000299   0.000678    0.148598   \n",
       "Financials                  0.000135   0.000679    0.137677   \n",
       "Health Care                 0.000323   0.000822    0.139627   \n",
       "Industrials                 0.000253   0.000744    0.137157   \n",
       "Information Technology      0.000222   0.000888    0.151621   \n",
       "Materials                   0.000050   0.000688    0.139493   \n",
       "Real Estate                 0.000244   0.000777    0.133148   \n",
       "Utilities                   0.000211   0.000538    0.118278   \n",
       "\n",
       "                                      Industry  \n",
       "Industry                                        \n",
       "Communication Services  Communication Services  \n",
       "Consumer Discretionary  Consumer Discretionary  \n",
       "Consumer Staples              Consumer Staples  \n",
       "Energy                                  Energy  \n",
       "Financials                          Financials  \n",
       "Health Care                        Health Care  \n",
       "Industrials                        Industrials  \n",
       "Information Technology  Information Technology  \n",
       "Materials                            Materials  \n",
       "Real Estate                        Real Estate  \n",
       "Utilities                            Utilities  "
      ]
     },
     "execution_count": 11,
     "metadata": {},
     "output_type": "execute_result"
    }
   ],
   "source": [
    "industry_mean = sp500.groupby('Industry').mean()\n",
    "\n",
    "industry_mean['Industry'] = industry_mean.index.values\n",
    "\n",
    "industry_mean"
   ]
  },
  {
   "cell_type": "code",
   "execution_count": 12,
   "metadata": {
    "slideshow": {
     "slide_type": "slide"
    }
   },
   "outputs": [
    {
     "data": {
      "text/plain": [
       "[Text(0.5, 1.0, 'Retorno intradiario de cada industria')]"
      ]
     },
     "execution_count": 12,
     "metadata": {},
     "output_type": "execute_result"
    },
    {
     "data": {
      "image/png": "[encoded data removed]",
      "text/plain": [
       "<Figure size 1728x576 with 1 Axes>"
      ]
     },
     "metadata": {},
     "output_type": "display_data"
    }
   ],
   "source": [
    "sns.set(rc = {'figure.figsize':(24,8)})\n",
    "sns.barplot(x='Industry', y='Intra_return', data=industry_mean).set(title='Retorno intradiario de cada industria')"
   ]
  },
  {
   "cell_type": "code",
   "execution_count": 13,
   "metadata": {
    "slideshow": {
     "slide_type": "slide"
    }
   },
   "outputs": [
    {
     "data": {
      "text/plain": [
       "[Text(0.5, 1.0, 'Retorno de gap de cada industria')]"
      ]
     },
     "execution_count": 13,
     "metadata": {},
     "output_type": "execute_result"
    },
    {
     "data": {
      "image/png": "[encoded data removed]",
      "text/plain": [
       "<Figure size 1728x576 with 1 Axes>"
      ]
     },
     "metadata": {},
     "output_type": "display_data"
    }
   ],
   "source": [
    "sns.set(rc = {'figure.figsize':(24,8)})\n",
    "sns.barplot(x='Industry', y='Gap_return', data=industry_mean).set(title='Retorno de gap de cada industria')"
   ]
  },
  {
   "cell_type": "markdown",
   "metadata": {
    "slideshow": {
     "slide_type": "slide"
    }
   },
   "source": [
    "### Concluimos que las mejores industrias son las que tienen \"Retorno intradiario\" y \"Retorno Gap\", de media, POSITIVOS. Es decir: Consumer Discretionary, Health Care Industry, Industrials, Information Technology\n",
    "\n",
    "### Las variaciones y volatilidad no fueron tenidas en cuenta ya que son muy parecidas entre industrias."
   ]
  },
  {
   "cell_type": "markdown",
   "metadata": {
    "slideshow": {
     "slide_type": "subslide"
    }
   },
   "source": [
    "## ¿Cuáles son las 9 mejores empresas para invertir?"
   ]
  },
  {
   "cell_type": "code",
   "execution_count": 14,
   "metadata": {
    "slideshow": {
     "slide_type": "subslide"
    }
   },
   "outputs": [
    {
     "data": {
      "text/html": [
       "<div>\n",
       "<style scoped>\n",
       "    .dataframe tbody tr th:only-of-type {\n",
       "        vertical-align: middle;\n",
       "    }\n",
       "\n",
       "    .dataframe tbody tr th {\n",
       "        vertical-align: top;\n",
       "    }\n",
       "\n",
       "    .dataframe thead th {\n",
       "        text-align: right;\n",
       "    }\n",
       "</style>\n",
       "<table border=\"1\" class=\"dataframe\">\n",
       "  <thead>\n",
       "    <tr style=\"text-align: right;\">\n",
       "      <th></th>\n",
       "      <th>Symbol</th>\n",
       "      <th>Year</th>\n",
       "      <th>Open</th>\n",
       "      <th>High</th>\n",
       "      <th>Low</th>\n",
       "      <th>Close</th>\n",
       "      <th>Adj Close</th>\n",
       "      <th>Volume</th>\n",
       "      <th>Gap_return</th>\n",
       "      <th>Intra_return</th>\n",
       "      <th>Variation</th>\n",
       "      <th>Volatility</th>\n",
       "    </tr>\n",
       "  </thead>\n",
       "  <tbody>\n",
       "    <tr>\n",
       "      <th>0</th>\n",
       "      <td>A</td>\n",
       "      <td>2000</td>\n",
       "      <td>12591.469944</td>\n",
       "      <td>13060.152901</td>\n",
       "      <td>12100.433628</td>\n",
       "      <td>12569.038355</td>\n",
       "      <td>10792.166426</td>\n",
       "      <td>1.068041e+09</td>\n",
       "      <td>-0.273889</td>\n",
       "      <td>-0.728351</td>\n",
       "      <td>0.249632</td>\n",
       "      <td>0.000000</td>\n",
       "    </tr>\n",
       "    <tr>\n",
       "      <th>1</th>\n",
       "      <td>A</td>\n",
       "      <td>2001</td>\n",
       "      <td>5911.788282</td>\n",
       "      <td>6093.562244</td>\n",
       "      <td>5747.312222</td>\n",
       "      <td>5930.262884</td>\n",
       "      <td>5091.907763</td>\n",
       "      <td>8.211647e+08</td>\n",
       "      <td>-0.652522</td>\n",
       "      <td>1.078626</td>\n",
       "      <td>-0.423866</td>\n",
       "      <td>57.455204</td>\n",
       "    </tr>\n",
       "    <tr>\n",
       "      <th>2</th>\n",
       "      <td>A</td>\n",
       "      <td>2002</td>\n",
       "      <td>4141.237480</td>\n",
       "      <td>4237.195986</td>\n",
       "      <td>4044.721015</td>\n",
       "      <td>4136.430615</td>\n",
       "      <td>3551.667748</td>\n",
       "      <td>9.324905e+08</td>\n",
       "      <td>-0.462108</td>\n",
       "      <td>-0.226736</td>\n",
       "      <td>-0.275533</td>\n",
       "      <td>48.007943</td>\n",
       "    </tr>\n",
       "    <tr>\n",
       "      <th>3</th>\n",
       "      <td>A</td>\n",
       "      <td>2003</td>\n",
       "      <td>3640.736775</td>\n",
       "      <td>3700.951362</td>\n",
       "      <td>3584.370533</td>\n",
       "      <td>3648.648065</td>\n",
       "      <td>3132.842484</td>\n",
       "      <td>8.176573e+08</td>\n",
       "      <td>0.487391</td>\n",
       "      <td>0.476368</td>\n",
       "      <td>0.596086</td>\n",
       "      <td>48.989867</td>\n",
       "    </tr>\n",
       "    <tr>\n",
       "      <th>4</th>\n",
       "      <td>A</td>\n",
       "      <td>2004</td>\n",
       "      <td>4848.812591</td>\n",
       "      <td>4924.105864</td>\n",
       "      <td>4775.915605</td>\n",
       "      <td>4845.271831</td>\n",
       "      <td>4160.300763</td>\n",
       "      <td>1.075427e+09</td>\n",
       "      <td>-0.193326</td>\n",
       "      <td>-0.172132</td>\n",
       "      <td>-0.119491</td>\n",
       "      <td>38.354044</td>\n",
       "    </tr>\n",
       "    <tr>\n",
       "      <th>...</th>\n",
       "      <td>...</td>\n",
       "      <td>...</td>\n",
       "      <td>...</td>\n",
       "      <td>...</td>\n",
       "      <td>...</td>\n",
       "      <td>...</td>\n",
       "      <td>...</td>\n",
       "      <td>...</td>\n",
       "      <td>...</td>\n",
       "      <td>...</td>\n",
       "      <td>...</td>\n",
       "      <td>...</td>\n",
       "    </tr>\n",
       "    <tr>\n",
       "      <th>9874</th>\n",
       "      <td>ZTS</td>\n",
       "      <td>2017</td>\n",
       "      <td>15327.339977</td>\n",
       "      <td>15438.630039</td>\n",
       "      <td>15235.759972</td>\n",
       "      <td>15343.639977</td>\n",
       "      <td>14900.195946</td>\n",
       "      <td>6.768945e+08</td>\n",
       "      <td>0.296979</td>\n",
       "      <td>0.277849</td>\n",
       "      <td>0.315189</td>\n",
       "      <td>26.779351</td>\n",
       "    </tr>\n",
       "    <tr>\n",
       "      <th>9875</th>\n",
       "      <td>ZTS</td>\n",
       "      <td>2018</td>\n",
       "      <td>21474.919945</td>\n",
       "      <td>21677.169998</td>\n",
       "      <td>21266.740005</td>\n",
       "      <td>21471.039986</td>\n",
       "      <td>20975.386459</td>\n",
       "      <td>6.282999e+08</td>\n",
       "      <td>0.171763</td>\n",
       "      <td>-0.033253</td>\n",
       "      <td>0.205038</td>\n",
       "      <td>27.392997</td>\n",
       "    </tr>\n",
       "    <tr>\n",
       "      <th>9876</th>\n",
       "      <td>ZTS</td>\n",
       "      <td>2019</td>\n",
       "      <td>27800.600014</td>\n",
       "      <td>28042.329964</td>\n",
       "      <td>27570.039955</td>\n",
       "      <td>27814.030014</td>\n",
       "      <td>27352.691071</td>\n",
       "      <td>5.315672e+08</td>\n",
       "      <td>0.436466</td>\n",
       "      <td>0.158172</td>\n",
       "      <td>0.464466</td>\n",
       "      <td>30.149462</td>\n",
       "    </tr>\n",
       "    <tr>\n",
       "      <th>9877</th>\n",
       "      <td>ZTS</td>\n",
       "      <td>2020</td>\n",
       "      <td>36619.229927</td>\n",
       "      <td>37095.320076</td>\n",
       "      <td>36168.170013</td>\n",
       "      <td>36630.909958</td>\n",
       "      <td>36231.520874</td>\n",
       "      <td>5.121247e+08</td>\n",
       "      <td>0.223521</td>\n",
       "      <td>0.119155</td>\n",
       "      <td>0.306060</td>\n",
       "      <td>37.055070</td>\n",
       "    </tr>\n",
       "    <tr>\n",
       "      <th>9878</th>\n",
       "      <td>ZTS</td>\n",
       "      <td>2021</td>\n",
       "      <td>47252.579910</td>\n",
       "      <td>47695.330109</td>\n",
       "      <td>46843.709991</td>\n",
       "      <td>47295.540054</td>\n",
       "      <td>47044.170914</td>\n",
       "      <td>4.276464e+08</td>\n",
       "      <td>0.392940</td>\n",
       "      <td>0.198356</td>\n",
       "      <td>0.418511</td>\n",
       "      <td>31.776701</td>\n",
       "    </tr>\n",
       "  </tbody>\n",
       "</table>\n",
       "<p>9879 rows × 12 columns</p>\n",
       "</div>"
      ],
      "text/plain": [
       "     Symbol  Year          Open          High           Low         Close  \\\n",
       "0         A  2000  12591.469944  13060.152901  12100.433628  12569.038355   \n",
       "1         A  2001   5911.788282   6093.562244   5747.312222   5930.262884   \n",
       "2         A  2002   4141.237480   4237.195986   4044.721015   4136.430615   \n",
       "3         A  2003   3640.736775   3700.951362   3584.370533   3648.648065   \n",
       "4         A  2004   4848.812591   4924.105864   4775.915605   4845.271831   \n",
       "...     ...   ...           ...           ...           ...           ...   \n",
       "9874    ZTS  2017  15327.339977  15438.630039  15235.759972  15343.639977   \n",
       "9875    ZTS  2018  21474.919945  21677.169998  21266.740005  21471.039986   \n",
       "9876    ZTS  2019  27800.600014  28042.329964  27570.039955  27814.030014   \n",
       "9877    ZTS  2020  36619.229927  37095.320076  36168.170013  36630.909958   \n",
       "9878    ZTS  2021  47252.579910  47695.330109  46843.709991  47295.540054   \n",
       "\n",
       "         Adj Close        Volume  Gap_return  Intra_return  Variation  \\\n",
       "0     10792.166426  1.068041e+09   -0.273889     -0.728351   0.249632   \n",
       "1      5091.907763  8.211647e+08   -0.652522      1.078626  -0.423866   \n",
       "2      3551.667748  9.324905e+08   -0.462108     -0.226736  -0.275533   \n",
       "3      3132.842484  8.176573e+08    0.487391      0.476368   0.596086   \n",
       "4      4160.300763  1.075427e+09   -0.193326     -0.172132  -0.119491   \n",
       "...            ...           ...         ...           ...        ...   \n",
       "9874  14900.195946  6.768945e+08    0.296979      0.277849   0.315189   \n",
       "9875  20975.386459  6.282999e+08    0.171763     -0.033253   0.205038   \n",
       "9876  27352.691071  5.315672e+08    0.436466      0.158172   0.464466   \n",
       "9877  36231.520874  5.121247e+08    0.223521      0.119155   0.306060   \n",
       "9878  47044.170914  4.276464e+08    0.392940      0.198356   0.418511   \n",
       "\n",
       "      Volatility  \n",
       "0       0.000000  \n",
       "1      57.455204  \n",
       "2      48.007943  \n",
       "3      48.989867  \n",
       "4      38.354044  \n",
       "...          ...  \n",
       "9874   26.779351  \n",
       "9875   27.392997  \n",
       "9876   30.149462  \n",
       "9877   37.055070  \n",
       "9878   31.776701  \n",
       "\n",
       "[9879 rows x 12 columns]"
      ]
     },
     "execution_count": 14,
     "metadata": {},
     "output_type": "execute_result"
    }
   ],
   "source": [
    "df_symb_per_year = sp500.groupby(['Symbol', 'Year']).sum()\n",
    "df_symb_per_year.reset_index(inplace=True)\n",
    "\n",
    "df_symb_per_year\n"
   ]
  },
  {
   "cell_type": "markdown",
   "metadata": {
    "slideshow": {
     "slide_type": "slide"
    }
   },
   "source": [
    "### Calculamos la diferencia entre los Retornos del 2021 y 2020"
   ]
  },
  {
   "cell_type": "code",
   "execution_count": 15,
   "metadata": {
    "slideshow": {
     "slide_type": "slide"
    }
   },
   "outputs": [
    {
     "name": "stderr",
     "output_type": "stream",
     "text": [
      "C:\\Users\\Xavi\\AppData\\Local\\Temp\\ipykernel_13076\\2634373415.py:3: SettingWithCopyWarning: \n",
      "A value is trying to be set on a copy of a slice from a DataFrame\n",
      "\n",
      "See the caveats in the documentation: https://pandas.pydata.org/pandas-docs/stable/user_guide/indexing.html#returning-a-view-versus-a-copy\n",
      "  df_2020.drop(columns={'index'}, inplace=True)\n",
      "C:\\Users\\Xavi\\AppData\\Local\\Temp\\ipykernel_13076\\2634373415.py:7: SettingWithCopyWarning: \n",
      "A value is trying to be set on a copy of a slice from a DataFrame\n",
      "\n",
      "See the caveats in the documentation: https://pandas.pydata.org/pandas-docs/stable/user_guide/indexing.html#returning-a-view-versus-a-copy\n",
      "  df_2021.drop(columns={'index'}, inplace=True)\n",
      "C:\\Users\\Xavi\\AppData\\Local\\Temp\\ipykernel_13076\\2634373415.py:14: SettingWithCopyWarning: \n",
      "A value is trying to be set on a copy of a slice from a DataFrame.\n",
      "Try using .loc[row_indexer,col_indexer] = value instead\n",
      "\n",
      "See the caveats in the documentation: https://pandas.pydata.org/pandas-docs/stable/user_guide/indexing.html#returning-a-view-versus-a-copy\n",
      "  df_2021['pendiente_gap'] = df_2021['Gap_return'] - df_2020['Gap_return']\n",
      "C:\\Users\\Xavi\\AppData\\Local\\Temp\\ipykernel_13076\\2634373415.py:15: SettingWithCopyWarning: \n",
      "A value is trying to be set on a copy of a slice from a DataFrame.\n",
      "Try using .loc[row_indexer,col_indexer] = value instead\n",
      "\n",
      "See the caveats in the documentation: https://pandas.pydata.org/pandas-docs/stable/user_guide/indexing.html#returning-a-view-versus-a-copy\n",
      "  df_2021['pendiente_intra'] = df_2021['Intra_return'] - df_2020['Intra_return']\n"
     ]
    },
    {
     "data": {
      "text/html": [
       "<div>\n",
       "<style scoped>\n",
       "    .dataframe tbody tr th:only-of-type {\n",
       "        vertical-align: middle;\n",
       "    }\n",
       "\n",
       "    .dataframe tbody tr th {\n",
       "        vertical-align: top;\n",
       "    }\n",
       "\n",
       "    .dataframe thead th {\n",
       "        text-align: right;\n",
       "    }\n",
       "</style>\n",
       "<table border=\"1\" class=\"dataframe\">\n",
       "  <thead>\n",
       "    <tr style=\"text-align: right;\">\n",
       "      <th></th>\n",
       "      <th>Symbol</th>\n",
       "      <th>pendiente_gap</th>\n",
       "      <th>pendiente_intra</th>\n",
       "    </tr>\n",
       "  </thead>\n",
       "  <tbody>\n",
       "    <tr>\n",
       "      <th>0</th>\n",
       "      <td>A</td>\n",
       "      <td>-0.022707</td>\n",
       "      <td>-0.201598</td>\n",
       "    </tr>\n",
       "    <tr>\n",
       "      <th>1</th>\n",
       "      <td>AAL</td>\n",
       "      <td>0.734234</td>\n",
       "      <td>1.373182</td>\n",
       "    </tr>\n",
       "    <tr>\n",
       "      <th>2</th>\n",
       "      <td>AAP</td>\n",
       "      <td>0.427447</td>\n",
       "      <td>0.411211</td>\n",
       "    </tr>\n",
       "    <tr>\n",
       "      <th>3</th>\n",
       "      <td>AAPL</td>\n",
       "      <td>-0.297030</td>\n",
       "      <td>-0.135930</td>\n",
       "    </tr>\n",
       "    <tr>\n",
       "      <th>4</th>\n",
       "      <td>ABBV</td>\n",
       "      <td>0.047135</td>\n",
       "      <td>0.299134</td>\n",
       "    </tr>\n",
       "    <tr>\n",
       "      <th>...</th>\n",
       "      <td>...</td>\n",
       "      <td>...</td>\n",
       "      <td>...</td>\n",
       "    </tr>\n",
       "    <tr>\n",
       "      <th>495</th>\n",
       "      <td>YUM</td>\n",
       "      <td>0.213736</td>\n",
       "      <td>0.234880</td>\n",
       "    </tr>\n",
       "    <tr>\n",
       "      <th>496</th>\n",
       "      <td>ZBH</td>\n",
       "      <td>-0.591913</td>\n",
       "      <td>-0.377210</td>\n",
       "    </tr>\n",
       "    <tr>\n",
       "      <th>497</th>\n",
       "      <td>ZBRA</td>\n",
       "      <td>0.619643</td>\n",
       "      <td>0.234720</td>\n",
       "    </tr>\n",
       "    <tr>\n",
       "      <th>498</th>\n",
       "      <td>ZION</td>\n",
       "      <td>0.150294</td>\n",
       "      <td>0.028998</td>\n",
       "    </tr>\n",
       "    <tr>\n",
       "      <th>499</th>\n",
       "      <td>ZTS</td>\n",
       "      <td>NaN</td>\n",
       "      <td>NaN</td>\n",
       "    </tr>\n",
       "  </tbody>\n",
       "</table>\n",
       "<p>500 rows × 3 columns</p>\n",
       "</div>"
      ],
      "text/plain": [
       "    Symbol  pendiente_gap  pendiente_intra\n",
       "0        A      -0.022707        -0.201598\n",
       "1      AAL       0.734234         1.373182\n",
       "2      AAP       0.427447         0.411211\n",
       "3     AAPL      -0.297030        -0.135930\n",
       "4     ABBV       0.047135         0.299134\n",
       "..     ...            ...              ...\n",
       "495    YUM       0.213736         0.234880\n",
       "496    ZBH      -0.591913        -0.377210\n",
       "497   ZBRA       0.619643         0.234720\n",
       "498   ZION       0.150294         0.028998\n",
       "499    ZTS            NaN              NaN\n",
       "\n",
       "[500 rows x 3 columns]"
      ]
     },
     "execution_count": 15,
     "metadata": {},
     "output_type": "execute_result"
    }
   ],
   "source": [
    "df_2020 = df_symb_per_year.loc[df_symb_per_year['Year']==2020]\n",
    "df_2020.reset_index(inplace=True)\n",
    "df_2020.drop(columns={'index'}, inplace=True)\n",
    "\n",
    "df_2021 = df_symb_per_year.loc[df_symb_per_year['Year']==2021]\n",
    "df_2021.reset_index(inplace=True)\n",
    "df_2021.drop(columns={'index'}, inplace=True)\n",
    "\n",
    "if len(df_2020['Symbol'])>len(df_2021['Symbol']):\n",
    "    max = len(df_2021['Symbol'])\n",
    "else:\n",
    "    max = len(df_2020['Symbol'])\n",
    "\n",
    "df_2021['pendiente_gap'] = df_2021['Gap_return'] - df_2020['Gap_return']\n",
    "df_2021['pendiente_intra'] = df_2021['Intra_return'] - df_2020['Intra_return']\n",
    "\n",
    "df_2021.drop(columns={'Year', 'Open','High', 'Low', 'Close', 'Adj Close', 'Volume', 'Gap_return', 'Intra_return', 'Variation', 'Volatility'})\n"
   ]
  },
  {
   "cell_type": "markdown",
   "metadata": {
    "slideshow": {
     "slide_type": "slide"
    }
   },
   "source": [
    "### Filtro las mejores empresas con pendiente_gap y pendiente_intra"
   ]
  },
  {
   "cell_type": "code",
   "execution_count": 19,
   "metadata": {
    "slideshow": {
     "slide_type": "subslide"
    }
   },
   "outputs": [
    {
     "data": {
      "text/html": [
       "<div>\n",
       "<style scoped>\n",
       "    .dataframe tbody tr th:only-of-type {\n",
       "        vertical-align: middle;\n",
       "    }\n",
       "\n",
       "    .dataframe tbody tr th {\n",
       "        vertical-align: top;\n",
       "    }\n",
       "\n",
       "    .dataframe thead th {\n",
       "        text-align: right;\n",
       "    }\n",
       "</style>\n",
       "<table border=\"1\" class=\"dataframe\">\n",
       "  <thead>\n",
       "    <tr style=\"text-align: right;\">\n",
       "      <th></th>\n",
       "      <th>Volume</th>\n",
       "      <th>Symbol</th>\n",
       "    </tr>\n",
       "  </thead>\n",
       "  <tbody>\n",
       "    <tr>\n",
       "      <th>0</th>\n",
       "      <td>NaN</td>\n",
       "      <td>ORLY</td>\n",
       "    </tr>\n",
       "    <tr>\n",
       "      <th>1</th>\n",
       "      <td>NaN</td>\n",
       "      <td>MRO</td>\n",
       "    </tr>\n",
       "    <tr>\n",
       "      <th>2</th>\n",
       "      <td>NaN</td>\n",
       "      <td>DVN</td>\n",
       "    </tr>\n",
       "    <tr>\n",
       "      <th>3</th>\n",
       "      <td>NaN</td>\n",
       "      <td>FANG</td>\n",
       "    </tr>\n",
       "    <tr>\n",
       "      <th>4</th>\n",
       "      <td>NaN</td>\n",
       "      <td>APA</td>\n",
       "    </tr>\n",
       "    <tr>\n",
       "      <th>5</th>\n",
       "      <td>NaN</td>\n",
       "      <td>OTIS</td>\n",
       "    </tr>\n",
       "    <tr>\n",
       "      <th>6</th>\n",
       "      <td>NaN</td>\n",
       "      <td>EOG</td>\n",
       "    </tr>\n",
       "    <tr>\n",
       "      <th>7</th>\n",
       "      <td>NaN</td>\n",
       "      <td>COP</td>\n",
       "    </tr>\n",
       "    <tr>\n",
       "      <th>8</th>\n",
       "      <td>NaN</td>\n",
       "      <td>PSA</td>\n",
       "    </tr>\n",
       "    <tr>\n",
       "      <th>9</th>\n",
       "      <td>NaN</td>\n",
       "      <td>TYL</td>\n",
       "    </tr>\n",
       "    <tr>\n",
       "      <th>10</th>\n",
       "      <td>NaN</td>\n",
       "      <td>MRNA</td>\n",
       "    </tr>\n",
       "    <tr>\n",
       "      <th>11</th>\n",
       "      <td>NaN</td>\n",
       "      <td>AAL</td>\n",
       "    </tr>\n",
       "    <tr>\n",
       "      <th>12</th>\n",
       "      <td>NaN</td>\n",
       "      <td>NCLH</td>\n",
       "    </tr>\n",
       "    <tr>\n",
       "      <th>13</th>\n",
       "      <td>NaN</td>\n",
       "      <td>SO</td>\n",
       "    </tr>\n",
       "    <tr>\n",
       "      <th>14</th>\n",
       "      <td>NaN</td>\n",
       "      <td>CZR</td>\n",
       "    </tr>\n",
       "    <tr>\n",
       "      <th>15</th>\n",
       "      <td>NaN</td>\n",
       "      <td>CCL</td>\n",
       "    </tr>\n",
       "  </tbody>\n",
       "</table>\n",
       "</div>"
      ],
      "text/plain": [
       "   Volume Symbol\n",
       "0     NaN   ORLY\n",
       "1     NaN    MRO\n",
       "2     NaN    DVN\n",
       "3     NaN   FANG\n",
       "4     NaN    APA\n",
       "5     NaN   OTIS\n",
       "6     NaN    EOG\n",
       "7     NaN    COP\n",
       "8     NaN    PSA\n",
       "9     NaN    TYL\n",
       "10    NaN   MRNA\n",
       "11    NaN    AAL\n",
       "12    NaN   NCLH\n",
       "13    NaN     SO\n",
       "14    NaN    CZR\n",
       "15    NaN    CCL"
      ]
     },
     "execution_count": 19,
     "metadata": {},
     "output_type": "execute_result"
    }
   ],
   "source": [
    "top_10_gap = []\n",
    "for value in df_2021.sort_values('pendiente_gap', ascending=False)['Symbol']:\n",
    "    if len(top_10_gap) >= 10:\n",
    "        break\n",
    "    top_10_gap.append(value)\n",
    "\n",
    "top_10_intra = []\n",
    "for value in df_2021.sort_values('pendiente_intra', ascending=False)['Symbol']:\n",
    "    if len(top_10_intra) >= 10:\n",
    "        break\n",
    "    top_10_intra.append(value)\n",
    "\n",
    "top_companies = []\n",
    "for c in top_10_gap:\n",
    "    top_companies.append(c)\n",
    "\n",
    "for c in top_10_intra:\n",
    "    top_companies.append(c)\n",
    "\n",
    "top_companies = list(dict.fromkeys(top_companies))\n",
    "\n",
    "top10_companies = pd.DataFrame(columns={'Symbol', 'Volume'})\n",
    "top10_companies['Symbol'] = top_companies\n",
    "\n",
    "top10_companies\n"
   ]
  },
  {
   "cell_type": "markdown",
   "metadata": {
    "slideshow": {
     "slide_type": "slide"
    }
   },
   "source": [
    "### Filtro las 10 empresas con mayor volumen"
   ]
  },
  {
   "cell_type": "code",
   "execution_count": 20,
   "metadata": {
    "slideshow": {
     "slide_type": "subslide"
    }
   },
   "outputs": [
    {
     "data": {
      "text/html": [
       "<div>\n",
       "<style scoped>\n",
       "    .dataframe tbody tr th:only-of-type {\n",
       "        vertical-align: middle;\n",
       "    }\n",
       "\n",
       "    .dataframe tbody tr th {\n",
       "        vertical-align: top;\n",
       "    }\n",
       "\n",
       "    .dataframe thead th {\n",
       "        text-align: right;\n",
       "    }\n",
       "</style>\n",
       "<table border=\"1\" class=\"dataframe\">\n",
       "  <thead>\n",
       "    <tr style=\"text-align: right;\">\n",
       "      <th></th>\n",
       "      <th>Volume</th>\n",
       "      <th>Symbol</th>\n",
       "    </tr>\n",
       "  </thead>\n",
       "  <tbody>\n",
       "    <tr>\n",
       "      <th>0</th>\n",
       "      <td>62104792566.0</td>\n",
       "      <td>MRO</td>\n",
       "    </tr>\n",
       "    <tr>\n",
       "      <th>1</th>\n",
       "      <td>53733895500.0</td>\n",
       "      <td>AAL</td>\n",
       "    </tr>\n",
       "    <tr>\n",
       "      <th>2</th>\n",
       "      <td>51590661264.0</td>\n",
       "      <td>COP</td>\n",
       "    </tr>\n",
       "    <tr>\n",
       "      <th>3</th>\n",
       "      <td>39683568200.0</td>\n",
       "      <td>CCL</td>\n",
       "    </tr>\n",
       "    <tr>\n",
       "      <th>4</th>\n",
       "      <td>27029784500.0</td>\n",
       "      <td>DVN</td>\n",
       "    </tr>\n",
       "    <tr>\n",
       "      <th>5</th>\n",
       "      <td>26786606800.0</td>\n",
       "      <td>EOG</td>\n",
       "    </tr>\n",
       "    <tr>\n",
       "      <th>6</th>\n",
       "      <td>24150621787.0</td>\n",
       "      <td>APA</td>\n",
       "    </tr>\n",
       "    <tr>\n",
       "      <th>7</th>\n",
       "      <td>22019584359.0</td>\n",
       "      <td>SO</td>\n",
       "    </tr>\n",
       "    <tr>\n",
       "      <th>8</th>\n",
       "      <td>15875105200.0</td>\n",
       "      <td>NCLH</td>\n",
       "    </tr>\n",
       "    <tr>\n",
       "      <th>9</th>\n",
       "      <td>8436496500.0</td>\n",
       "      <td>MRNA</td>\n",
       "    </tr>\n",
       "  </tbody>\n",
       "</table>\n",
       "</div>"
      ],
      "text/plain": [
       "          Volume Symbol\n",
       "0  62104792566.0    MRO\n",
       "1  53733895500.0    AAL\n",
       "2  51590661264.0    COP\n",
       "3  39683568200.0    CCL\n",
       "4  27029784500.0    DVN\n",
       "5  26786606800.0    EOG\n",
       "6  24150621787.0    APA\n",
       "7  22019584359.0     SO\n",
       "8  15875105200.0   NCLH\n",
       "9   8436496500.0   MRNA"
      ]
     },
     "execution_count": 20,
     "metadata": {},
     "output_type": "execute_result"
    }
   ],
   "source": [
    "company_sum = sp500.groupby('Symbol').sum()\n",
    "\n",
    "for i in range(0, len(top10_companies)):\n",
    "    for symbol in company_sum.index.values:\n",
    "        if top10_companies['Symbol'][i] == symbol:\n",
    "            top10_companies['Volume'][i] = company_sum['Volume'][symbol]\n",
    "\n",
    "top10_companies = top10_companies.sort_values('Volume', ascending=False)\n",
    "top10_companies.reset_index(inplace=True)\n",
    "top10_companies.drop(columns={'index'}, inplace=True)\n",
    "\n",
    "for i in top10_companies.index.values:\n",
    "    if i>=10:\n",
    "        top10_companies.drop(axis=0, index=i, inplace=True)\n",
    "\n",
    "top10_companies"
   ]
  }
 ],
 "metadata": {
  "celltoolbar": "Slideshow",
  "kernelspec": {
   "display_name": "Python 3 (ipykernel)",
   "language": "python",
   "name": "python3"
  },
  "language_info": {
   "codemirror_mode": {
    "name": "ipython",
    "version": 3
   },
   "file_extension": ".py",
   "mimetype": "text/x-python",
   "name": "python",
   "nbconvert_exporter": "python",
   "pygments_lexer": "ipython3",
   "version": "3.10.7"
  },
  "vscode": {
   "interpreter": {
    "hash": "ce8db2a0a97b6d15ccbb150412aa5502326b7928cb570dbce8e0f4a9461b766e"
   }
  }
 },
 "nbformat": 4,
 "nbformat_minor": 2
}
